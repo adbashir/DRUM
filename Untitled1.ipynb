{
 "cells": [
  {
   "cell_type": "code",
   "execution_count": 3,
   "id": "8ada7c81-e563-423c-93a4-486a635e3fdd",
   "metadata": {},
   "outputs": [
    {
     "ename": "NameError",
     "evalue": "name 'data' is not defined",
     "output_type": "error",
     "traceback": [
      "\u001b[1;31m---------------------------------------------------------------------------\u001b[0m",
      "\u001b[1;31mNameError\u001b[0m                                 Traceback (most recent call last)",
      "Cell \u001b[1;32mIn[3], line 7\u001b[0m\n\u001b[0;32m      4\u001b[0m \u001b[38;5;28;01mfrom\u001b[39;00m \u001b[38;5;21;01mIPython\u001b[39;00m\u001b[38;5;21;01m.\u001b[39;00m\u001b[38;5;21;01mdisplay\u001b[39;00m \u001b[38;5;28;01mimport\u001b[39;00m display\n\u001b[0;32m      6\u001b[0m \u001b[38;5;66;03m# Just use first 500 rows of current data\u001b[39;00m\n\u001b[1;32m----> 7\u001b[0m subset \u001b[38;5;241m=\u001b[39m \u001b[43mdata\u001b[49m\u001b[38;5;241m.\u001b[39miloc[:\u001b[38;5;241m500\u001b[39m]\n\u001b[0;32m      8\u001b[0m selected_columns \u001b[38;5;241m=\u001b[39m user_inputs[\u001b[38;5;124m'\u001b[39m\u001b[38;5;124mselected_columns\u001b[39m\u001b[38;5;124m'\u001b[39m]\n\u001b[0;32m     10\u001b[0m \u001b[38;5;66;03m# Container for manually labeled change points\u001b[39;00m\n",
      "\u001b[1;31mNameError\u001b[0m: name 'data' is not defined"
     ]
    }
   ],
   "source": [
    "import plotly.graph_objects as go\n",
    "from plotly.subplots import make_subplots\n",
    "import ipywidgets as widgets\n",
    "from IPython.display import display\n",
    "\n",
    "# Just use first 500 rows of current data\n",
    "subset = data.iloc[:500]\n",
    "selected_columns = user_inputs['selected_columns']\n",
    "\n",
    "# Container for manually labeled change points\n",
    "change_points = []\n",
    "\n",
    "# Create subplot figure\n",
    "fig = make_subplots(\n",
    "    rows=len(selected_columns), cols=1, shared_xaxes=True,\n",
    "    subplot_titles=selected_columns\n",
    ")\n",
    "\n",
    "# Plot each variable in its own subplot\n",
    "for i, col in enumerate(selected_columns):\n",
    "    fig.add_trace(go.Scatter(\n",
    "        x=subset.index,\n",
    "        y=subset[col],\n",
    "        mode='lines+markers',\n",
    "        name=col,\n",
    "        hoverinfo='x+y+name'\n",
    "    ), row=i+1, col=1)\n",
    "\n",
    "fig.update_layout(\n",
    "    height=300 * len(selected_columns),\n",
    "    title_text=\"Manual Change Point Labeling (Click to Mark)\",\n",
    "    showlegend=False\n",
    ")\n",
    "\n",
    "# Convert to interactive widget\n",
    "fwidget = go.FigureWidget(fig)\n",
    "output = widgets.Output()\n",
    "\n",
    "# Define click handler\n",
    "def on_click(trace, points, selector):\n",
    "    with output:\n",
    "        for point_index in points.point_inds:\n",
    "            idx = subset.index[point_index]\n",
    "            if idx not in change_points:\n",
    "                change_points.append(idx)\n",
    "                print(f\"✅ Marked change point at index: {idx}\")\n",
    "            else:\n",
    "                print(f\"⚠️ Index {idx} already marked.\")\n",
    "\n",
    "# Attach click handler to all traces\n",
    "for trace in fwidget.data:\n",
    "    trace.on_click(on_click)\n",
    "\n",
    "# Show the interactive widget and output\n",
    "display(fwidget, output)\n"
   ]
  },
  {
   "cell_type": "code",
   "execution_count": null,
   "id": "4f6da940-7c55-4386-a9c1-afb794a2f7f3",
   "metadata": {},
   "outputs": [],
   "source": []
  }
 ],
 "metadata": {
  "kernelspec": {
   "display_name": "Python 3 (ipykernel)",
   "language": "python",
   "name": "python3"
  },
  "language_info": {
   "codemirror_mode": {
    "name": "ipython",
    "version": 3
   },
   "file_extension": ".py",
   "mimetype": "text/x-python",
   "name": "python",
   "nbconvert_exporter": "python",
   "pygments_lexer": "ipython3",
   "version": "3.10.16"
  }
 },
 "nbformat": 4,
 "nbformat_minor": 5
}
